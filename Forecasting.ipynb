{
 "cells": [
  {
   "cell_type": "markdown",
   "metadata": {
    "toc": true
   },
   "source": [
    "<h1>Содержание<span class=\"tocSkip\"></span></h1>\n",
    "<div class=\"toc\"><ul class=\"toc-item\"><li><span><a href=\"#Подготовка\" data-toc-modified-id=\"Подготовка-1\"><span class=\"toc-item-num\">1&nbsp;&nbsp;</span>Подготовка</a></span></li><li><span><a href=\"#Анализ\" data-toc-modified-id=\"Анализ-2\"><span class=\"toc-item-num\">2&nbsp;&nbsp;</span>Анализ</a></span></li><li><span><a href=\"#Обучение\" data-toc-modified-id=\"Обучение-3\"><span class=\"toc-item-num\">3&nbsp;&nbsp;</span>Обучение</a></span></li><li><span><a href=\"#Тестирование\" data-toc-modified-id=\"Тестирование-4\"><span class=\"toc-item-num\">4&nbsp;&nbsp;</span>Тестирование</a></span></li><li><span><a href=\"#Чек-лист-проверки\" data-toc-modified-id=\"Чек-лист-проверки-5\"><span class=\"toc-item-num\">5&nbsp;&nbsp;</span>Чек-лист проверки</a></span></li></ul></div>"
   ]
  },
  {
   "cell_type": "markdown",
   "metadata": {},
   "source": [
    "#  Прогнозирование заказов "
   ]
  },
  {
   "cell_type": "markdown",
   "metadata": {},
   "source": [
    "Значение метрики *RMSE* на тестовой выборке должно быть не больше 48."
   ]
  },
  {
   "cell_type": "markdown",
   "metadata": {},
   "source": [
    "## Подготовка"
   ]
  },
  {
   "cell_type": "code",
   "execution_count": 1,
   "metadata": {},
   "outputs": [],
   "source": [
    "import pandas as pd\n",
    "import numpy as np\n",
    "from statsmodels.tsa.seasonal import seasonal_decompose\n",
    "import matplotlib.pyplot as plt\n",
    "from sklearn.model_selection import train_test_split\n",
    "from sklearn.tree import DecisionTreeRegressor\n",
    "from sklearn.metrics import mean_squared_error\n",
    "from sklearn.linear_model import LinearRegression\n",
    "from catboost import CatBoostRegressor\n",
    "from sklearn.ensemble import RandomForestRegressor\n",
    "import lightgbm as lgb"
   ]
  },
  {
   "cell_type": "code",
   "execution_count": 2,
   "metadata": {},
   "outputs": [
    {
     "data": {
      "text/html": [
       "<div>\n",
       "<style scoped>\n",
       "    .dataframe tbody tr th:only-of-type {\n",
       "        vertical-align: middle;\n",
       "    }\n",
       "\n",
       "    .dataframe tbody tr th {\n",
       "        vertical-align: top;\n",
       "    }\n",
       "\n",
       "    .dataframe thead th {\n",
       "        text-align: right;\n",
       "    }\n",
       "</style>\n",
       "<table border=\"1\" class=\"dataframe\">\n",
       "  <thead>\n",
       "    <tr style=\"text-align: right;\">\n",
       "      <th></th>\n",
       "      <th>num_orders</th>\n",
       "    </tr>\n",
       "    <tr>\n",
       "      <th>datetime</th>\n",
       "      <th></th>\n",
       "    </tr>\n",
       "  </thead>\n",
       "  <tbody>\n",
       "    <tr>\n",
       "      <td>2018-03-01 00:00:00</td>\n",
       "      <td>9</td>\n",
       "    </tr>\n",
       "    <tr>\n",
       "      <td>2018-03-01 00:10:00</td>\n",
       "      <td>14</td>\n",
       "    </tr>\n",
       "    <tr>\n",
       "      <td>2018-03-01 00:20:00</td>\n",
       "      <td>28</td>\n",
       "    </tr>\n",
       "    <tr>\n",
       "      <td>2018-03-01 00:30:00</td>\n",
       "      <td>20</td>\n",
       "    </tr>\n",
       "    <tr>\n",
       "      <td>2018-03-01 00:40:00</td>\n",
       "      <td>32</td>\n",
       "    </tr>\n",
       "    <tr>\n",
       "      <td>...</td>\n",
       "      <td>...</td>\n",
       "    </tr>\n",
       "    <tr>\n",
       "      <td>2018-08-31 23:10:00</td>\n",
       "      <td>32</td>\n",
       "    </tr>\n",
       "    <tr>\n",
       "      <td>2018-08-31 23:20:00</td>\n",
       "      <td>24</td>\n",
       "    </tr>\n",
       "    <tr>\n",
       "      <td>2018-08-31 23:30:00</td>\n",
       "      <td>27</td>\n",
       "    </tr>\n",
       "    <tr>\n",
       "      <td>2018-08-31 23:40:00</td>\n",
       "      <td>39</td>\n",
       "    </tr>\n",
       "    <tr>\n",
       "      <td>2018-08-31 23:50:00</td>\n",
       "      <td>53</td>\n",
       "    </tr>\n",
       "  </tbody>\n",
       "</table>\n",
       "<p>26496 rows × 1 columns</p>\n",
       "</div>"
      ],
      "text/plain": [
       "                     num_orders\n",
       "datetime                       \n",
       "2018-03-01 00:00:00           9\n",
       "2018-03-01 00:10:00          14\n",
       "2018-03-01 00:20:00          28\n",
       "2018-03-01 00:30:00          20\n",
       "2018-03-01 00:40:00          32\n",
       "...                         ...\n",
       "2018-08-31 23:10:00          32\n",
       "2018-08-31 23:20:00          24\n",
       "2018-08-31 23:30:00          27\n",
       "2018-08-31 23:40:00          39\n",
       "2018-08-31 23:50:00          53\n",
       "\n",
       "[26496 rows x 1 columns]"
      ]
     },
     "execution_count": 2,
     "metadata": {},
     "output_type": "execute_result"
    }
   ],
   "source": [
    "df=pd.read_csv('/datasets/taxi.csv', index_col=[0], parse_dates=[0])\n",
    "df.sort_index(inplace=True)\n",
    "df"
   ]
  },
  {
   "cell_type": "code",
   "execution_count": 3,
   "metadata": {},
   "outputs": [
    {
     "data": {
      "text/html": [
       "<div>\n",
       "<style scoped>\n",
       "    .dataframe tbody tr th:only-of-type {\n",
       "        vertical-align: middle;\n",
       "    }\n",
       "\n",
       "    .dataframe tbody tr th {\n",
       "        vertical-align: top;\n",
       "    }\n",
       "\n",
       "    .dataframe thead th {\n",
       "        text-align: right;\n",
       "    }\n",
       "</style>\n",
       "<table border=\"1\" class=\"dataframe\">\n",
       "  <thead>\n",
       "    <tr style=\"text-align: right;\">\n",
       "      <th></th>\n",
       "      <th>num_orders</th>\n",
       "    </tr>\n",
       "    <tr>\n",
       "      <th>datetime</th>\n",
       "      <th></th>\n",
       "    </tr>\n",
       "  </thead>\n",
       "  <tbody>\n",
       "    <tr>\n",
       "      <td>2018-03-01 00:00:00</td>\n",
       "      <td>124</td>\n",
       "    </tr>\n",
       "    <tr>\n",
       "      <td>2018-03-01 01:00:00</td>\n",
       "      <td>85</td>\n",
       "    </tr>\n",
       "    <tr>\n",
       "      <td>2018-03-01 02:00:00</td>\n",
       "      <td>71</td>\n",
       "    </tr>\n",
       "    <tr>\n",
       "      <td>2018-03-01 03:00:00</td>\n",
       "      <td>66</td>\n",
       "    </tr>\n",
       "    <tr>\n",
       "      <td>2018-03-01 04:00:00</td>\n",
       "      <td>43</td>\n",
       "    </tr>\n",
       "    <tr>\n",
       "      <td>...</td>\n",
       "      <td>...</td>\n",
       "    </tr>\n",
       "    <tr>\n",
       "      <td>2018-08-31 19:00:00</td>\n",
       "      <td>136</td>\n",
       "    </tr>\n",
       "    <tr>\n",
       "      <td>2018-08-31 20:00:00</td>\n",
       "      <td>154</td>\n",
       "    </tr>\n",
       "    <tr>\n",
       "      <td>2018-08-31 21:00:00</td>\n",
       "      <td>159</td>\n",
       "    </tr>\n",
       "    <tr>\n",
       "      <td>2018-08-31 22:00:00</td>\n",
       "      <td>223</td>\n",
       "    </tr>\n",
       "    <tr>\n",
       "      <td>2018-08-31 23:00:00</td>\n",
       "      <td>205</td>\n",
       "    </tr>\n",
       "  </tbody>\n",
       "</table>\n",
       "<p>4416 rows × 1 columns</p>\n",
       "</div>"
      ],
      "text/plain": [
       "                     num_orders\n",
       "datetime                       \n",
       "2018-03-01 00:00:00         124\n",
       "2018-03-01 01:00:00          85\n",
       "2018-03-01 02:00:00          71\n",
       "2018-03-01 03:00:00          66\n",
       "2018-03-01 04:00:00          43\n",
       "...                         ...\n",
       "2018-08-31 19:00:00         136\n",
       "2018-08-31 20:00:00         154\n",
       "2018-08-31 21:00:00         159\n",
       "2018-08-31 22:00:00         223\n",
       "2018-08-31 23:00:00         205\n",
       "\n",
       "[4416 rows x 1 columns]"
      ]
     },
     "execution_count": 3,
     "metadata": {},
     "output_type": "execute_result"
    }
   ],
   "source": [
    "df = df.resample('1H').sum()\n",
    "df.dropna()"
   ]
  },
  {
   "cell_type": "code",
   "execution_count": 4,
   "metadata": {},
   "outputs": [
    {
     "name": "stdout",
     "output_type": "stream",
     "text": [
      "<class 'pandas.core.frame.DataFrame'>\n",
      "DatetimeIndex: 4416 entries, 2018-03-01 00:00:00 to 2018-08-31 23:00:00\n",
      "Freq: H\n",
      "Data columns (total 1 columns):\n",
      "num_orders    4416 non-null int64\n",
      "dtypes: int64(1)\n",
      "memory usage: 69.0 KB\n"
     ]
    }
   ],
   "source": [
    "df.info()"
   ]
  },
  {
   "cell_type": "code",
   "execution_count": 5,
   "metadata": {},
   "outputs": [
    {
     "data": {
      "image/png": "[encoded data removed]",
      "text/plain": [
       "<Figure size 432x576 with 3 Axes>"
      ]
     },
     "metadata": {
      "needs_background": "light"
     },
     "output_type": "display_data"
    }
   ],
   "source": [
    "decomposed = seasonal_decompose(df)\n",
    "\n",
    "plt.figure(figsize=(6, 8))\n",
    "plt.subplot(311)\n",
    "\n",
    "decomposed.trend.plot(ax=plt.gca())\n",
    "plt.title('Trend')\n",
    "plt.subplot(312)\n",
    "decomposed.seasonal.plot(ax=plt.gca())\n",
    "plt.title('Seasonality')\n",
    "plt.xlim('2018-08-01', '2018-08-30')\n",
    "plt.ylim(-100, 100)\n",
    "plt.subplot(313)\n",
    "decomposed.resid.plot(ax=plt.gca()) \n",
    "plt.title('Residuals')\n",
    "plt.tight_layout()"
   ]
  },
  {
   "cell_type": "markdown",
   "metadata": {},
   "source": [
    "## Анализ"
   ]
  },
  {
   "cell_type": "code",
   "execution_count": 6,
   "metadata": {
    "scrolled": false
   },
   "outputs": [
    {
     "data": {
      "text/html": [
       "<div>\n",
       "<style scoped>\n",
       "    .dataframe tbody tr th:only-of-type {\n",
       "        vertical-align: middle;\n",
       "    }\n",
       "\n",
       "    .dataframe tbody tr th {\n",
       "        vertical-align: top;\n",
       "    }\n",
       "\n",
       "    .dataframe thead th {\n",
       "        text-align: right;\n",
       "    }\n",
       "</style>\n",
       "<table border=\"1\" class=\"dataframe\">\n",
       "  <thead>\n",
       "    <tr style=\"text-align: right;\">\n",
       "      <th></th>\n",
       "      <th>num_orders</th>\n",
       "      <th>rolling_mean</th>\n",
       "    </tr>\n",
       "  </thead>\n",
       "  <tbody>\n",
       "    <tr>\n",
       "      <td>count</td>\n",
       "      <td>4416.000000</td>\n",
       "      <td>4317.000000</td>\n",
       "    </tr>\n",
       "    <tr>\n",
       "      <td>mean</td>\n",
       "      <td>84.422781</td>\n",
       "      <td>83.809532</td>\n",
       "    </tr>\n",
       "    <tr>\n",
       "      <td>std</td>\n",
       "      <td>45.023853</td>\n",
       "      <td>24.185334</td>\n",
       "    </tr>\n",
       "    <tr>\n",
       "      <td>min</td>\n",
       "      <td>0.000000</td>\n",
       "      <td>48.630000</td>\n",
       "    </tr>\n",
       "    <tr>\n",
       "      <td>25%</td>\n",
       "      <td>54.000000</td>\n",
       "      <td>64.360000</td>\n",
       "    </tr>\n",
       "    <tr>\n",
       "      <td>50%</td>\n",
       "      <td>78.000000</td>\n",
       "      <td>78.620000</td>\n",
       "    </tr>\n",
       "    <tr>\n",
       "      <td>75%</td>\n",
       "      <td>107.000000</td>\n",
       "      <td>99.740000</td>\n",
       "    </tr>\n",
       "    <tr>\n",
       "      <td>max</td>\n",
       "      <td>462.000000</td>\n",
       "      <td>160.830000</td>\n",
       "    </tr>\n",
       "  </tbody>\n",
       "</table>\n",
       "</div>"
      ],
      "text/plain": [
       "        num_orders  rolling_mean\n",
       "count  4416.000000   4317.000000\n",
       "mean     84.422781     83.809532\n",
       "std      45.023853     24.185334\n",
       "min       0.000000     48.630000\n",
       "25%      54.000000     64.360000\n",
       "50%      78.000000     78.620000\n",
       "75%     107.000000     99.740000\n",
       "max     462.000000    160.830000"
      ]
     },
     "execution_count": 6,
     "metadata": {},
     "output_type": "execute_result"
    },
    {
     "data": {
      "image/png": "[encoded data removed]",
      "text/plain": [
       "<Figure size 1440x720 with 1 Axes>"
      ]
     },
     "metadata": {
      "needs_background": "light"
     },
     "output_type": "display_data"
    }
   ],
   "source": [
    "#df=df.query('num_orders<300')\n",
    "df['rolling_mean'] = df.rolling(100).mean()\n",
    "df.plot(figsize=[20, 10])\n",
    "df.describe()"
   ]
  },
  {
   "cell_type": "code",
   "execution_count": 7,
   "metadata": {},
   "outputs": [
    {
     "data": {
      "text/html": [
       "<div>\n",
       "<style scoped>\n",
       "    .dataframe tbody tr th:only-of-type {\n",
       "        vertical-align: middle;\n",
       "    }\n",
       "\n",
       "    .dataframe tbody tr th {\n",
       "        vertical-align: top;\n",
       "    }\n",
       "\n",
       "    .dataframe thead th {\n",
       "        text-align: right;\n",
       "    }\n",
       "</style>\n",
       "<table border=\"1\" class=\"dataframe\">\n",
       "  <thead>\n",
       "    <tr style=\"text-align: right;\">\n",
       "      <th></th>\n",
       "      <th>num_orders</th>\n",
       "      <th>rolling_mean</th>\n",
       "    </tr>\n",
       "    <tr>\n",
       "      <th>datetime</th>\n",
       "      <th></th>\n",
       "      <th></th>\n",
       "    </tr>\n",
       "  </thead>\n",
       "  <tbody>\n",
       "    <tr>\n",
       "      <td>2018-03-01 00:00:00</td>\n",
       "      <td>124</td>\n",
       "      <td>NaN</td>\n",
       "    </tr>\n",
       "    <tr>\n",
       "      <td>2018-03-01 01:00:00</td>\n",
       "      <td>85</td>\n",
       "      <td>NaN</td>\n",
       "    </tr>\n",
       "    <tr>\n",
       "      <td>2018-03-01 02:00:00</td>\n",
       "      <td>71</td>\n",
       "      <td>NaN</td>\n",
       "    </tr>\n",
       "    <tr>\n",
       "      <td>2018-03-01 03:00:00</td>\n",
       "      <td>66</td>\n",
       "      <td>NaN</td>\n",
       "    </tr>\n",
       "    <tr>\n",
       "      <td>2018-03-01 04:00:00</td>\n",
       "      <td>43</td>\n",
       "      <td>NaN</td>\n",
       "    </tr>\n",
       "    <tr>\n",
       "      <td>...</td>\n",
       "      <td>...</td>\n",
       "      <td>...</td>\n",
       "    </tr>\n",
       "    <tr>\n",
       "      <td>2018-08-31 19:00:00</td>\n",
       "      <td>136</td>\n",
       "      <td>156.74</td>\n",
       "    </tr>\n",
       "    <tr>\n",
       "      <td>2018-08-31 20:00:00</td>\n",
       "      <td>154</td>\n",
       "      <td>156.63</td>\n",
       "    </tr>\n",
       "    <tr>\n",
       "      <td>2018-08-31 21:00:00</td>\n",
       "      <td>159</td>\n",
       "      <td>156.40</td>\n",
       "    </tr>\n",
       "    <tr>\n",
       "      <td>2018-08-31 22:00:00</td>\n",
       "      <td>223</td>\n",
       "      <td>157.52</td>\n",
       "    </tr>\n",
       "    <tr>\n",
       "      <td>2018-08-31 23:00:00</td>\n",
       "      <td>205</td>\n",
       "      <td>158.05</td>\n",
       "    </tr>\n",
       "  </tbody>\n",
       "</table>\n",
       "<p>4416 rows × 2 columns</p>\n",
       "</div>"
      ],
      "text/plain": [
       "                     num_orders  rolling_mean\n",
       "datetime                                     \n",
       "2018-03-01 00:00:00         124           NaN\n",
       "2018-03-01 01:00:00          85           NaN\n",
       "2018-03-01 02:00:00          71           NaN\n",
       "2018-03-01 03:00:00          66           NaN\n",
       "2018-03-01 04:00:00          43           NaN\n",
       "...                         ...           ...\n",
       "2018-08-31 19:00:00         136        156.74\n",
       "2018-08-31 20:00:00         154        156.63\n",
       "2018-08-31 21:00:00         159        156.40\n",
       "2018-08-31 22:00:00         223        157.52\n",
       "2018-08-31 23:00:00         205        158.05\n",
       "\n",
       "[4416 rows x 2 columns]"
      ]
     },
     "execution_count": 7,
     "metadata": {},
     "output_type": "execute_result"
    }
   ],
   "source": [
    "df"
   ]
  },
  {
   "cell_type": "code",
   "execution_count": 8,
   "metadata": {},
   "outputs": [
    {
     "data": {
      "text/html": [
       "<div>\n",
       "<style scoped>\n",
       "    .dataframe tbody tr th:only-of-type {\n",
       "        vertical-align: middle;\n",
       "    }\n",
       "\n",
       "    .dataframe tbody tr th {\n",
       "        vertical-align: top;\n",
       "    }\n",
       "\n",
       "    .dataframe thead th {\n",
       "        text-align: right;\n",
       "    }\n",
       "</style>\n",
       "<table border=\"1\" class=\"dataframe\">\n",
       "  <thead>\n",
       "    <tr style=\"text-align: right;\">\n",
       "      <th></th>\n",
       "      <th>num_orders</th>\n",
       "      <th>rolling_mean</th>\n",
       "      <th>dayofweek</th>\n",
       "      <th>hour</th>\n",
       "      <th>lag_1</th>\n",
       "      <th>lag_2</th>\n",
       "    </tr>\n",
       "    <tr>\n",
       "      <th>datetime</th>\n",
       "      <th></th>\n",
       "      <th></th>\n",
       "      <th></th>\n",
       "      <th></th>\n",
       "      <th></th>\n",
       "      <th></th>\n",
       "    </tr>\n",
       "  </thead>\n",
       "  <tbody>\n",
       "    <tr>\n",
       "      <td>2018-03-01 00:00:00</td>\n",
       "      <td>124</td>\n",
       "      <td>NaN</td>\n",
       "      <td>3</td>\n",
       "      <td>0</td>\n",
       "      <td>NaN</td>\n",
       "      <td>NaN</td>\n",
       "    </tr>\n",
       "    <tr>\n",
       "      <td>2018-03-01 01:00:00</td>\n",
       "      <td>85</td>\n",
       "      <td>NaN</td>\n",
       "      <td>3</td>\n",
       "      <td>1</td>\n",
       "      <td>124.0</td>\n",
       "      <td>NaN</td>\n",
       "    </tr>\n",
       "    <tr>\n",
       "      <td>2018-03-01 02:00:00</td>\n",
       "      <td>71</td>\n",
       "      <td>NaN</td>\n",
       "      <td>3</td>\n",
       "      <td>2</td>\n",
       "      <td>85.0</td>\n",
       "      <td>124.0</td>\n",
       "    </tr>\n",
       "    <tr>\n",
       "      <td>2018-03-01 03:00:00</td>\n",
       "      <td>66</td>\n",
       "      <td>NaN</td>\n",
       "      <td>3</td>\n",
       "      <td>3</td>\n",
       "      <td>71.0</td>\n",
       "      <td>85.0</td>\n",
       "    </tr>\n",
       "    <tr>\n",
       "      <td>2018-03-01 04:00:00</td>\n",
       "      <td>43</td>\n",
       "      <td>NaN</td>\n",
       "      <td>3</td>\n",
       "      <td>4</td>\n",
       "      <td>66.0</td>\n",
       "      <td>71.0</td>\n",
       "    </tr>\n",
       "    <tr>\n",
       "      <td>...</td>\n",
       "      <td>...</td>\n",
       "      <td>...</td>\n",
       "      <td>...</td>\n",
       "      <td>...</td>\n",
       "      <td>...</td>\n",
       "      <td>...</td>\n",
       "    </tr>\n",
       "    <tr>\n",
       "      <td>2018-08-31 19:00:00</td>\n",
       "      <td>136</td>\n",
       "      <td>164.875000</td>\n",
       "      <td>4</td>\n",
       "      <td>19</td>\n",
       "      <td>207.0</td>\n",
       "      <td>217.0</td>\n",
       "    </tr>\n",
       "    <tr>\n",
       "      <td>2018-08-31 20:00:00</td>\n",
       "      <td>154</td>\n",
       "      <td>167.541667</td>\n",
       "      <td>4</td>\n",
       "      <td>20</td>\n",
       "      <td>136.0</td>\n",
       "      <td>207.0</td>\n",
       "    </tr>\n",
       "    <tr>\n",
       "      <td>2018-08-31 21:00:00</td>\n",
       "      <td>159</td>\n",
       "      <td>168.041667</td>\n",
       "      <td>4</td>\n",
       "      <td>21</td>\n",
       "      <td>154.0</td>\n",
       "      <td>136.0</td>\n",
       "    </tr>\n",
       "    <tr>\n",
       "      <td>2018-08-31 22:00:00</td>\n",
       "      <td>223</td>\n",
       "      <td>166.416667</td>\n",
       "      <td>4</td>\n",
       "      <td>22</td>\n",
       "      <td>159.0</td>\n",
       "      <td>154.0</td>\n",
       "    </tr>\n",
       "    <tr>\n",
       "      <td>2018-08-31 23:00:00</td>\n",
       "      <td>205</td>\n",
       "      <td>169.125000</td>\n",
       "      <td>4</td>\n",
       "      <td>23</td>\n",
       "      <td>223.0</td>\n",
       "      <td>159.0</td>\n",
       "    </tr>\n",
       "  </tbody>\n",
       "</table>\n",
       "<p>4416 rows × 6 columns</p>\n",
       "</div>"
      ],
      "text/plain": [
       "                     num_orders  rolling_mean  dayofweek  hour  lag_1  lag_2\n",
       "datetime                                                                    \n",
       "2018-03-01 00:00:00         124           NaN          3     0    NaN    NaN\n",
       "2018-03-01 01:00:00          85           NaN          3     1  124.0    NaN\n",
       "2018-03-01 02:00:00          71           NaN          3     2   85.0  124.0\n",
       "2018-03-01 03:00:00          66           NaN          3     3   71.0   85.0\n",
       "2018-03-01 04:00:00          43           NaN          3     4   66.0   71.0\n",
       "...                         ...           ...        ...   ...    ...    ...\n",
       "2018-08-31 19:00:00         136    164.875000          4    19  207.0  217.0\n",
       "2018-08-31 20:00:00         154    167.541667          4    20  136.0  207.0\n",
       "2018-08-31 21:00:00         159    168.041667          4    21  154.0  136.0\n",
       "2018-08-31 22:00:00         223    166.416667          4    22  159.0  154.0\n",
       "2018-08-31 23:00:00         205    169.125000          4    23  223.0  159.0\n",
       "\n",
       "[4416 rows x 6 columns]"
      ]
     },
     "execution_count": 8,
     "metadata": {},
     "output_type": "execute_result"
    }
   ],
   "source": [
    "def make_features(data, max_lag, rolling_mean_size):\n",
    "    data['dayofweek'] = data.index.dayofweek\n",
    "    data['hour'] = data.index.hour\n",
    "    for lag in range(1, max_lag + 1):\n",
    "        data['lag_{}'.format(lag)] = data['num_orders'].shift(lag)\n",
    "\n",
    "    data['rolling_mean'] = data['num_orders'].shift().rolling(rolling_mean_size).mean()\n",
    "make_features(df, 2, 24)\n",
    "df"
   ]
  },
  {
   "cell_type": "markdown",
   "metadata": {},
   "source": [
    "Убрал прям ну совсем выбросы, но тренд восходящий, компания растет"
   ]
  },
  {
   "cell_type": "markdown",
   "metadata": {},
   "source": [
    "## Обучение"
   ]
  },
  {
   "cell_type": "code",
   "execution_count": 9,
   "metadata": {},
   "outputs": [],
   "source": [
    "df_train, df_test = train_test_split(df, test_size=0.1, shuffle=False, random_state=12345)\n",
    "train_features = df_train.drop('num_orders', axis=1)\n",
    "train_features=train_features.fillna(value=None, method=\"bfill\") \n",
    "train_target = df_train['num_orders']\n",
    "test_features=df_test.drop('num_orders', axis=1)\n",
    "test_features=test_features.fillna(value=None, method=\"bfill\") \n",
    "test_target = df_test['num_orders']"
   ]
  },
  {
   "cell_type": "code",
   "execution_count": 10,
   "metadata": {},
   "outputs": [],
   "source": [
    "def fitrm (model):\n",
    "    model.fit(train_features, train_target)\n",
    "    test_predict=pd.Series(model.predict(train_features))\n",
    "    mse=mean_squared_error(train_target, test_predict)\n",
    "    rmse=mse**0.5\n",
    "    print(\"Точность модели\", model.score(test_features, test_target))\n",
    "    print('RMSE модели:', rmse)"
   ]
  },
  {
   "cell_type": "code",
   "execution_count": 11,
   "metadata": {
    "scrolled": true
   },
   "outputs": [
    {
     "name": "stdout",
     "output_type": "stream",
     "text": [
      "Точность модели 0.23333725455020826\n",
      "RMSE модели: 30.841222735972234\n"
     ]
    }
   ],
   "source": [
    "#Lr\n",
    "model_lr = LinearRegression()\n",
    "fitrm(model_lr)"
   ]
  },
  {
   "cell_type": "code",
   "execution_count": 12,
   "metadata": {},
   "outputs": [
    {
     "name": "stdout",
     "output_type": "stream",
     "text": [
      "Точность наилучшей модели: 0.2420779019404088 минимум значений в листе?: 6 Максимальная глубина: 14 лучшее разделение?: 3\n"
     ]
    }
   ],
   "source": [
    "#Дерево решений\n",
    "\n",
    "model = DecisionTreeRegressor(random_state=12345)\n",
    "best_model = None\n",
    "best_result = 0\n",
    "best_leaf = 0\n",
    "best_depth = 0\n",
    "best_split = 2\n",
    "for split in range(3, 11):\n",
    "    for leaf in range(1, 11):\n",
    "        for depth in range (1, 15):\n",
    "            model = DecisionTreeRegressor(random_state=12345, max_depth=depth, min_samples_leaf=leaf, min_samples_split= split)\n",
    "            model.fit(train_features, train_target) \n",
    "            result = model.score(test_features, test_target) \n",
    "            if result > best_result:\n",
    "                best_model = model\n",
    "                best_result = result\n",
    "                best_leaf = leaf\n",
    "                best_depth = depth\n",
    "                best_split=split\n",
    "print(\"Точность наилучшей модели:\", best_result, \n",
    "      \"минимум значений в листе?:\", best_leaf, \"Максимальная глубина:\", depth, \"лучшее разделение?:\", best_split)"
   ]
  },
  {
   "cell_type": "code",
   "execution_count": 13,
   "metadata": {},
   "outputs": [
    {
     "name": "stdout",
     "output_type": "stream",
     "text": [
      "Точность модели 0.377234965197374\n",
      "RMSE модели: 18.78676703435382\n"
     ]
    }
   ],
   "source": [
    "#Cat\n",
    "model_cat=CatBoostRegressor(iterations=100,\n",
    "                          learning_rate=0.25,\n",
    "                          depth=5, random_seed=12345, verbose=0)\n",
    "fitrm(model_cat)"
   ]
  },
  {
   "cell_type": "code",
   "execution_count": 14,
   "metadata": {},
   "outputs": [
    {
     "name": "stdout",
     "output_type": "stream",
     "text": [
      "Точность модели 0.4214409090482555\n",
      "RMSE модели: 18.751287733325398\n"
     ]
    }
   ],
   "source": [
    "\n",
    "model_gbm = lgb.LGBMRegressor(n_estimators=150, max_depth=4, boosting_type = 'gbdt', random_state=12345)\n",
    "fitrm(model_gbm)"
   ]
  },
  {
   "cell_type": "code",
   "execution_count": 15,
   "metadata": {},
   "outputs": [
    {
     "name": "stdout",
     "output_type": "stream",
     "text": [
      "Точность наилучшей модели: 0.3654360709352242 Количество деревьев: 21 Максимальная глубина: 14\n"
     ]
    }
   ],
   "source": [
    "#Случайный лес\n",
    "\n",
    "best_model = None\n",
    "best_result = 0\n",
    "best_est = 0\n",
    "best_depth = 0\n",
    "for est in range(1, 101, 10):\n",
    "    for depth in range (1, 15):\n",
    "        model = RandomForestRegressor(random_state=12345, n_estimators=est, max_depth=depth)\n",
    "        model.fit(train_features, train_target) \n",
    "        result = model.score(test_features, test_target) \n",
    "        if result > best_result:\n",
    "            best_model = model\n",
    "            best_result = result\n",
    "            best_est = est\n",
    "            best_depth = depth\n",
    "\n",
    "print(\"Точность наилучшей модели:\", best_result, \n",
    "      \"Количество деревьев:\", best_est, \"Максимальная глубина:\", depth)"
   ]
  },
  {
   "cell_type": "markdown",
   "metadata": {},
   "source": [
    "По результатам обучения моделей видно, что наименьший RMSE обучающей выборки и наивысшую точность предсказаний показали модели случайного леса и бустинги, среди них и будем выбирать лучшую модель для тестовой выборки."
   ]
  },
  {
   "cell_type": "markdown",
   "metadata": {},
   "source": [
    "## Тестирование"
   ]
  },
  {
   "cell_type": "code",
   "execution_count": 16,
   "metadata": {},
   "outputs": [
    {
     "data": {
      "text/plain": [
       "datetime\n",
       "2018-08-13 14:00:00    102\n",
       "2018-08-13 15:00:00    175\n",
       "2018-08-13 16:00:00    144\n",
       "2018-08-13 17:00:00    152\n",
       "2018-08-13 18:00:00    104\n",
       "                      ... \n",
       "2018-08-31 19:00:00    136\n",
       "2018-08-31 20:00:00    154\n",
       "2018-08-31 21:00:00    159\n",
       "2018-08-31 22:00:00    223\n",
       "2018-08-31 23:00:00    205\n",
       "Freq: H, Name: num_orders, Length: 442, dtype: int64"
      ]
     },
     "execution_count": 16,
     "metadata": {},
     "output_type": "execute_result"
    }
   ],
   "source": [
    "test_target"
   ]
  },
  {
   "cell_type": "code",
   "execution_count": 17,
   "metadata": {},
   "outputs": [],
   "source": [
    "import seaborn as sns\n",
    "def fittest (model): \n",
    "    model.fit(train_features, train_target)\n",
    "    preds_test=model.predict(test_features)\n",
    "    mse=mean_squared_error(test_target, preds_test)\n",
    "    rmse=mse**0.5\n",
    "    print(\"RMSE модели на тестовой выборке\", rmse)\n",
    "    predictions = pd.Series(preds_test)\n",
    "    predictions.index = test_target.index\n",
    "\n",
    "    fig2, ax = plt.subplots(figsize=(8, 3))\n",
    "    ax = sns.lineplot(data=test_target, label='Реальные')\n",
    "    sns.lineplot(data=predictions, color='red', label='Предсказанные')\n",
    "    plt.xticks(rotation=90)\n",
    "    plt.xlim('2018-08-24', '2018-08-27')\n",
    "    plt.title('Результаты модели, 2 дня')\n",
    "    plt.xlabel('Дата и время')\n",
    "    plt.ylabel('Число заказов');"
   ]
  },
  {
   "cell_type": "code",
   "execution_count": 18,
   "metadata": {
    "scrolled": true
   },
   "outputs": [
    {
     "name": "stdout",
     "output_type": "stream",
     "text": [
      "Catboost\n",
      "RMSE модели на тестовой выборке 46.20469548328721\n"
     ]
    },
    {
     "data": {
      "image/png": "[encoded data removed]",
      "text/plain": [
       "<Figure size 576x216 with 1 Axes>"
      ]
     },
     "metadata": {
      "needs_background": "light"
     },
     "output_type": "display_data"
    }
   ],
   "source": [
    "print('Catboost')\n",
    "fittest(model_cat)"
   ]
  },
  {
   "cell_type": "code",
   "execution_count": 19,
   "metadata": {},
   "outputs": [
    {
     "name": "stdout",
     "output_type": "stream",
     "text": [
      "LightGBM\n",
      "RMSE модели на тестовой выборке 44.53463147088845\n"
     ]
    },
    {
     "data": {
      "image/png": "[encoded data removed]",
      "text/plain": [
       "<Figure size 576x216 with 1 Axes>"
      ]
     },
     "metadata": {
      "needs_background": "light"
     },
     "output_type": "display_data"
    }
   ],
   "source": [
    "print('LightGBM')\n",
    "fittest(model_gbm)"
   ]
  },
  {
   "cell_type": "code",
   "execution_count": 20,
   "metadata": {
    "scrolled": true
   },
   "outputs": [
    {
     "name": "stdout",
     "output_type": "stream",
     "text": [
      "Random forest\n",
      "RMSE модели на тестовой выборке 46.950179914266194\n"
     ]
    },
    {
     "data": {
      "image/png": "[encoded data removed]",
      "text/plain": [
       "<Figure size 576x216 with 1 Axes>"
      ]
     },
     "metadata": {
      "needs_background": "light"
     },
     "output_type": "display_data"
    }
   ],
   "source": [
    "print('Random forest')\n",
    "model_rf=model = RandomForestRegressor(random_state=12345, n_estimators=81, max_depth=14)\n",
    "fittest(model_rf)"
   ]
  },
  {
   "cell_type": "markdown",
   "metadata": {},
   "source": [
    "Градиентный бустинг всех победил, если через кросс-валидацию подобрать параметры, думаю может стать еще лучше, но вроде все результаты работы достигнуты, RMSE модели практически вдвое ниже требуемого, все кайф (в кэтбусте можно количество повторов до 1000 поднять и рмсе будет около 1 но точность 50% ну совсем такое)"
   ]
  },
  {
   "cell_type": "code",
   "execution_count": 21,
   "metadata": {},
   "outputs": [
    {
     "name": "stdout",
     "output_type": "stream",
     "text": [
      "RMSE вектора средних на тестовой выборке 58.549609354757315\n"
     ]
    }
   ],
   "source": [
    "dumb=np.ones(test_target.shape) * test_target.mean()\n",
    "mse=mean_squared_error(test_target, dumb)\n",
    "rmse=mse**0.5\n",
    "print(\"RMSE вектора средних на тестовой выборке\", rmse)"
   ]
  },
  {
   "cell_type": "markdown",
   "metadata": {},
   "source": [
    "Ну и вектор из средних имеет довольно хреновый разброс по сравнению с моделями, но если честно точность 64% смущает, скорее всего придется добавить фичей, подобрать гиперпараметры и всякое такое"
   ]
  }
 ],
 "metadata": {
  "ExecuteTimeLog": [
   {
    "duration": 441,
    "start_time": "2021-08-09T13:16:13.528Z"
   },
   {
    "duration": 790,
    "start_time": "2021-08-09T13:16:15.990Z"
   },
   {
    "duration": 59,
    "start_time": "2021-08-09T13:16:21.247Z"
   },
   {
    "duration": 497,
    "start_time": "2021-08-09T13:18:08.888Z"
   },
   {
    "duration": 51,
    "start_time": "2021-08-09T13:18:56.614Z"
   },
   {
    "duration": 5,
    "start_time": "2021-08-09T13:19:04.820Z"
   },
   {
    "duration": 452,
    "start_time": "2021-08-09T13:19:16.110Z"
   },
   {
    "duration": 812,
    "start_time": "2021-08-09T13:19:32.181Z"
   },
   {
    "duration": 71,
    "start_time": "2021-08-09T13:19:32.997Z"
   },
   {
    "duration": 21,
    "start_time": "2021-08-09T13:19:33.070Z"
   },
   {
    "duration": 553,
    "start_time": "2021-08-09T13:19:58.661Z"
   },
   {
    "duration": 476,
    "start_time": "2021-08-09T13:20:24.660Z"
   },
   {
    "duration": 441,
    "start_time": "2021-08-09T13:20:45.427Z"
   },
   {
    "duration": 473,
    "start_time": "2021-08-09T13:21:25.494Z"
   },
   {
    "duration": 620,
    "start_time": "2021-08-09T13:22:23.168Z"
   },
   {
    "duration": 199,
    "start_time": "2021-08-09T13:22:32.902Z"
   },
   {
    "duration": 833,
    "start_time": "2021-08-09T13:22:35.616Z"
   },
   {
    "duration": 783,
    "start_time": "2021-08-09T13:23:34.212Z"
   },
   {
    "duration": 834,
    "start_time": "2021-08-09T13:25:23.645Z"
   },
   {
    "duration": 783,
    "start_time": "2021-08-09T13:25:34.179Z"
   },
   {
    "duration": 784,
    "start_time": "2021-08-09T13:25:40.384Z"
   },
   {
    "duration": 767,
    "start_time": "2021-08-09T13:25:50.888Z"
   },
   {
    "duration": 429,
    "start_time": "2021-08-09T13:27:45.724Z"
   },
   {
    "duration": 569,
    "start_time": "2021-08-09T13:28:09.499Z"
   },
   {
    "duration": 609,
    "start_time": "2021-08-09T13:28:13.488Z"
   },
   {
    "duration": 17,
    "start_time": "2021-08-09T13:29:07.298Z"
   },
   {
    "duration": -2,
    "start_time": "2021-08-09T13:29:25.716Z"
   },
   {
    "duration": -6,
    "start_time": "2021-08-09T13:29:25.721Z"
   },
   {
    "duration": -5,
    "start_time": "2021-08-09T13:29:25.722Z"
   },
   {
    "duration": -5,
    "start_time": "2021-08-09T13:29:25.723Z"
   },
   {
    "duration": -5,
    "start_time": "2021-08-09T13:29:25.725Z"
   },
   {
    "duration": 1432,
    "start_time": "2021-08-09T13:30:59.777Z"
   },
   {
    "duration": 62,
    "start_time": "2021-08-09T13:31:01.212Z"
   },
   {
    "duration": 30,
    "start_time": "2021-08-09T13:31:01.278Z"
   },
   {
    "duration": 796,
    "start_time": "2021-08-09T13:31:01.311Z"
   },
   {
    "duration": 502,
    "start_time": "2021-08-09T13:31:02.110Z"
   },
   {
    "duration": 16,
    "start_time": "2021-08-09T14:26:40.992Z"
   },
   {
    "duration": 17,
    "start_time": "2021-08-09T14:28:00.493Z"
   },
   {
    "duration": 26,
    "start_time": "2021-08-09T14:28:13.842Z"
   },
   {
    "duration": 1150,
    "start_time": "2021-08-09T14:28:19.682Z"
   },
   {
    "duration": 353,
    "start_time": "2021-08-09T14:28:29.454Z"
   },
   {
    "duration": 415,
    "start_time": "2021-08-09T14:29:00.363Z"
   },
   {
    "duration": 366,
    "start_time": "2021-08-09T14:29:11.190Z"
   },
   {
    "duration": 348,
    "start_time": "2021-08-09T14:31:30.613Z"
   },
   {
    "duration": 80,
    "start_time": "2021-08-09T14:31:37.725Z"
   },
   {
    "duration": 7,
    "start_time": "2021-08-09T14:31:41.990Z"
   },
   {
    "duration": 12439,
    "start_time": "2021-08-09T14:33:23.494Z"
   },
   {
    "duration": 30,
    "start_time": "2021-08-09T14:33:55.896Z"
   },
   {
    "duration": 28,
    "start_time": "2021-08-09T14:34:23.413Z"
   },
   {
    "duration": 30,
    "start_time": "2021-08-09T14:34:41.923Z"
   },
   {
    "duration": 29,
    "start_time": "2021-08-09T14:35:02.482Z"
   },
   {
    "duration": 13,
    "start_time": "2021-08-09T14:37:04.896Z"
   },
   {
    "duration": 404,
    "start_time": "2021-08-09T14:39:37.058Z"
   },
   {
    "duration": 364,
    "start_time": "2021-08-09T14:39:44.398Z"
   },
   {
    "duration": 5,
    "start_time": "2021-08-09T14:39:49.446Z"
   },
   {
    "duration": 5,
    "start_time": "2021-08-09T14:40:09.472Z"
   },
   {
    "duration": 693,
    "start_time": "2021-08-09T14:40:11.334Z"
   },
   {
    "duration": 17,
    "start_time": "2021-08-09T14:40:55.018Z"
   },
   {
    "duration": 5,
    "start_time": "2021-08-09T14:40:56.655Z"
   },
   {
    "duration": 757,
    "start_time": "2021-08-09T14:40:58.978Z"
   },
   {
    "duration": 23,
    "start_time": "2021-08-09T14:42:12.128Z"
   },
   {
    "duration": 981,
    "start_time": "2021-08-09T14:42:15.127Z"
   },
   {
    "duration": 11,
    "start_time": "2021-08-09T14:43:17.593Z"
   },
   {
    "duration": 751,
    "start_time": "2021-08-09T14:43:19.728Z"
   },
   {
    "duration": 5,
    "start_time": "2021-08-09T14:43:54.177Z"
   },
   {
    "duration": 5,
    "start_time": "2021-08-09T14:43:59.718Z"
   },
   {
    "duration": 14,
    "start_time": "2021-08-09T14:44:01.198Z"
   },
   {
    "duration": 14,
    "start_time": "2021-08-09T14:44:39.847Z"
   },
   {
    "duration": 1607,
    "start_time": "2021-08-09T14:44:55.812Z"
   },
   {
    "duration": 60,
    "start_time": "2021-08-09T14:44:57.422Z"
   },
   {
    "duration": 29,
    "start_time": "2021-08-09T14:44:57.486Z"
   },
   {
    "duration": 833,
    "start_time": "2021-08-09T14:44:57.518Z"
   },
   {
    "duration": 48,
    "start_time": "2021-08-09T14:44:58.353Z"
   },
   {
    "duration": 15,
    "start_time": "2021-08-09T14:44:58.404Z"
   },
   {
    "duration": 12,
    "start_time": "2021-08-09T14:44:58.422Z"
   },
   {
    "duration": 18,
    "start_time": "2021-08-09T14:44:58.436Z"
   },
   {
    "duration": 66,
    "start_time": "2021-08-09T14:45:30.544Z"
   },
   {
    "duration": 3226,
    "start_time": "2021-08-09T14:46:20.205Z"
   },
   {
    "duration": 6565,
    "start_time": "2021-08-09T14:47:03.185Z"
   },
   {
    "duration": 660,
    "start_time": "2021-08-09T14:49:06.064Z"
   },
   {
    "duration": 330,
    "start_time": "2021-08-09T14:49:18.674Z"
   },
   {
    "duration": 219,
    "start_time": "2021-08-09T14:49:25.895Z"
   },
   {
    "duration": 626,
    "start_time": "2021-08-09T14:49:33.084Z"
   },
   {
    "duration": 487,
    "start_time": "2021-08-09T14:51:24.587Z"
   },
   {
    "duration": 367,
    "start_time": "2021-08-09T14:53:10.814Z"
   },
   {
    "duration": 370,
    "start_time": "2021-08-09T14:53:19.741Z"
   },
   {
    "duration": 5,
    "start_time": "2021-08-09T14:53:34.154Z"
   },
   {
    "duration": 354,
    "start_time": "2021-08-09T14:53:44.116Z"
   },
   {
    "duration": 340,
    "start_time": "2021-08-09T14:53:56.657Z"
   },
   {
    "duration": 14980,
    "start_time": "2021-08-09T14:55:03.787Z"
   },
   {
    "duration": 14617,
    "start_time": "2021-08-09T14:55:48.813Z"
   },
   {
    "duration": 15423,
    "start_time": "2021-08-09T14:56:51.691Z"
   },
   {
    "duration": 16320,
    "start_time": "2021-08-09T14:57:08.439Z"
   },
   {
    "duration": 123,
    "start_time": "2021-08-09T14:57:56.770Z"
   },
   {
    "duration": 712,
    "start_time": "2021-08-09T14:58:01.490Z"
   },
   {
    "duration": 918,
    "start_time": "2021-08-09T14:58:13.470Z"
   },
   {
    "duration": 52212,
    "start_time": "2021-08-09T14:58:27.007Z"
   },
   {
    "duration": 3174,
    "start_time": "2021-08-09T14:59:27.908Z"
   },
   {
    "duration": 14,
    "start_time": "2021-08-09T14:59:55.778Z"
   },
   {
    "duration": 15269,
    "start_time": "2021-08-09T14:59:58.137Z"
   },
   {
    "duration": 1570,
    "start_time": "2021-08-09T15:00:22.505Z"
   },
   {
    "duration": 58,
    "start_time": "2021-08-09T15:00:24.078Z"
   },
   {
    "duration": 22,
    "start_time": "2021-08-09T15:00:24.139Z"
   },
   {
    "duration": 803,
    "start_time": "2021-08-09T15:00:24.164Z"
   },
   {
    "duration": 11,
    "start_time": "2021-08-09T15:00:24.969Z"
   },
   {
    "duration": 22,
    "start_time": "2021-08-09T15:00:24.982Z"
   },
   {
    "duration": 17,
    "start_time": "2021-08-09T15:00:25.006Z"
   },
   {
    "duration": 7143,
    "start_time": "2021-08-09T15:00:25.026Z"
   },
   {
    "duration": 2800,
    "start_time": "2021-08-09T15:00:32.172Z"
   },
   {
    "duration": 630,
    "start_time": "2021-08-09T15:00:34.975Z"
   },
   {
    "duration": 30,
    "start_time": "2021-08-09T15:00:47.994Z"
   },
   {
    "duration": 32,
    "start_time": "2021-08-09T15:01:01.985Z"
   },
   {
    "duration": 9,
    "start_time": "2021-08-09T15:01:07.064Z"
   },
   {
    "duration": 11,
    "start_time": "2021-08-09T15:01:09.184Z"
   },
   {
    "duration": 7080,
    "start_time": "2021-08-09T15:01:12.272Z"
   },
   {
    "duration": 1557,
    "start_time": "2021-08-09T15:01:29.186Z"
   },
   {
    "duration": 59,
    "start_time": "2021-08-09T15:01:30.745Z"
   },
   {
    "duration": 21,
    "start_time": "2021-08-09T15:01:30.807Z"
   },
   {
    "duration": 779,
    "start_time": "2021-08-09T15:01:30.831Z"
   },
   {
    "duration": 35,
    "start_time": "2021-08-09T15:01:31.612Z"
   },
   {
    "duration": 12,
    "start_time": "2021-08-09T15:01:31.649Z"
   },
   {
    "duration": 36,
    "start_time": "2021-08-09T15:01:31.664Z"
   },
   {
    "duration": 162,
    "start_time": "2021-08-09T15:01:31.703Z"
   },
   {
    "duration": 19379,
    "start_time": "2021-08-09T15:01:31.871Z"
   },
   {
    "duration": 3035,
    "start_time": "2021-08-09T15:01:51.252Z"
   },
   {
    "duration": 717,
    "start_time": "2021-08-09T15:01:54.289Z"
   },
   {
    "duration": 471,
    "start_time": "2021-08-09T15:02:16.547Z"
   },
   {
    "duration": 861,
    "start_time": "2021-08-09T15:02:24.344Z"
   },
   {
    "duration": 822,
    "start_time": "2021-08-09T15:02:31.198Z"
   },
   {
    "duration": 616,
    "start_time": "2021-08-09T15:02:36.686Z"
   },
   {
    "duration": 751,
    "start_time": "2021-08-09T15:02:47.551Z"
   },
   {
    "duration": 47,
    "start_time": "2021-08-09T15:04:33.187Z"
   },
   {
    "duration": 46,
    "start_time": "2021-08-09T15:04:47.868Z"
   },
   {
    "duration": 1623,
    "start_time": "2021-08-09T15:04:56.218Z"
   },
   {
    "duration": 58,
    "start_time": "2021-08-09T15:04:57.845Z"
   },
   {
    "duration": 22,
    "start_time": "2021-08-09T15:04:57.906Z"
   },
   {
    "duration": 791,
    "start_time": "2021-08-09T15:04:57.931Z"
   },
   {
    "duration": 37,
    "start_time": "2021-08-09T15:04:58.725Z"
   },
   {
    "duration": 36,
    "start_time": "2021-08-09T15:04:58.764Z"
   },
   {
    "duration": 4,
    "start_time": "2021-08-09T15:04:58.804Z"
   },
   {
    "duration": 19,
    "start_time": "2021-08-09T15:04:58.811Z"
   },
   {
    "duration": 19278,
    "start_time": "2021-08-09T15:04:58.833Z"
   },
   {
    "duration": 3152,
    "start_time": "2021-08-09T15:05:18.113Z"
   },
   {
    "duration": 837,
    "start_time": "2021-08-09T15:05:21.268Z"
   },
   {
    "duration": 92,
    "start_time": "2021-08-09T15:05:22.108Z"
   },
   {
    "duration": 72635,
    "start_time": "2021-08-09T15:08:02.695Z"
   },
   {
    "duration": 1573,
    "start_time": "2021-08-09T15:13:43.065Z"
   },
   {
    "duration": 59,
    "start_time": "2021-08-09T15:13:44.641Z"
   },
   {
    "duration": 23,
    "start_time": "2021-08-09T15:13:44.703Z"
   },
   {
    "duration": 786,
    "start_time": "2021-08-09T15:13:44.729Z"
   },
   {
    "duration": 44,
    "start_time": "2021-08-09T15:13:45.518Z"
   },
   {
    "duration": 37,
    "start_time": "2021-08-09T15:13:45.565Z"
   },
   {
    "duration": 4,
    "start_time": "2021-08-09T15:13:45.605Z"
   },
   {
    "duration": 20,
    "start_time": "2021-08-09T15:13:45.613Z"
   },
   {
    "duration": 29576,
    "start_time": "2021-08-09T15:13:45.703Z"
   },
   {
    "duration": 3360,
    "start_time": "2021-08-09T15:14:15.281Z"
   },
   {
    "duration": 757,
    "start_time": "2021-08-09T15:14:18.644Z"
   },
   {
    "duration": 115035,
    "start_time": "2021-08-09T15:14:19.404Z"
   },
   {
    "duration": 1492,
    "start_time": "2021-08-09T15:19:21.152Z"
   },
   {
    "duration": 60,
    "start_time": "2021-08-09T15:19:22.647Z"
   },
   {
    "duration": 25,
    "start_time": "2021-08-09T15:19:22.710Z"
   },
   {
    "duration": 879,
    "start_time": "2021-08-09T15:19:22.738Z"
   },
   {
    "duration": 46,
    "start_time": "2021-08-09T15:19:23.620Z"
   },
   {
    "duration": 39,
    "start_time": "2021-08-09T15:19:23.669Z"
   },
   {
    "duration": 7,
    "start_time": "2021-08-09T15:19:23.710Z"
   },
   {
    "duration": 25,
    "start_time": "2021-08-09T15:19:23.719Z"
   },
   {
    "duration": 30441,
    "start_time": "2021-08-09T15:19:23.800Z"
   },
   {
    "duration": 3350,
    "start_time": "2021-08-09T15:19:54.243Z"
   },
   {
    "duration": 1013,
    "start_time": "2021-08-09T15:19:57.596Z"
   },
   {
    "duration": 1554,
    "start_time": "2021-08-09T15:21:17.697Z"
   },
   {
    "duration": 59,
    "start_time": "2021-08-09T15:21:19.254Z"
   },
   {
    "duration": 23,
    "start_time": "2021-08-09T15:21:19.317Z"
   },
   {
    "duration": 788,
    "start_time": "2021-08-09T15:21:19.344Z"
   },
   {
    "duration": 112,
    "start_time": "2021-08-09T15:21:20.134Z"
   },
   {
    "duration": 19,
    "start_time": "2021-08-09T15:21:20.248Z"
   },
   {
    "duration": 5,
    "start_time": "2021-08-09T15:21:20.269Z"
   },
   {
    "duration": 129,
    "start_time": "2021-08-09T15:21:20.277Z"
   },
   {
    "duration": 1551,
    "start_time": "2021-08-09T15:22:17.290Z"
   },
   {
    "duration": 57,
    "start_time": "2021-08-09T15:22:18.844Z"
   },
   {
    "duration": 22,
    "start_time": "2021-08-09T15:22:18.905Z"
   },
   {
    "duration": 776,
    "start_time": "2021-08-09T15:22:18.930Z"
   },
   {
    "duration": 63,
    "start_time": "2021-08-09T15:22:19.709Z"
   },
   {
    "duration": 37,
    "start_time": "2021-08-09T15:22:19.775Z"
   },
   {
    "duration": 5,
    "start_time": "2021-08-09T15:22:19.814Z"
   },
   {
    "duration": 84,
    "start_time": "2021-08-09T15:22:19.821Z"
   },
   {
    "duration": 1495,
    "start_time": "2021-08-09T23:33:24.433Z"
   },
   {
    "duration": 59,
    "start_time": "2021-08-09T23:33:25.931Z"
   },
   {
    "duration": 21,
    "start_time": "2021-08-09T23:33:25.993Z"
   },
   {
    "duration": 775,
    "start_time": "2021-08-09T23:33:26.017Z"
   },
   {
    "duration": 77,
    "start_time": "2021-08-09T23:33:26.795Z"
   },
   {
    "duration": 14,
    "start_time": "2021-08-09T23:33:26.874Z"
   },
   {
    "duration": 22,
    "start_time": "2021-08-09T23:33:26.890Z"
   },
   {
    "duration": 140,
    "start_time": "2021-08-09T23:33:26.915Z"
   },
   {
    "duration": 1548,
    "start_time": "2021-08-09T23:35:55.680Z"
   },
   {
    "duration": 59,
    "start_time": "2021-08-09T23:35:57.231Z"
   },
   {
    "duration": 22,
    "start_time": "2021-08-09T23:35:57.294Z"
   },
   {
    "duration": 791,
    "start_time": "2021-08-09T23:35:57.318Z"
   },
   {
    "duration": 84,
    "start_time": "2021-08-09T23:35:58.112Z"
   },
   {
    "duration": 14,
    "start_time": "2021-08-09T23:35:58.198Z"
   },
   {
    "duration": 4,
    "start_time": "2021-08-09T23:35:58.215Z"
   },
   {
    "duration": 876,
    "start_time": "2021-08-09T23:35:58.222Z"
   },
   {
    "duration": -30,
    "start_time": "2021-08-09T23:35:59.132Z"
   },
   {
    "duration": -30,
    "start_time": "2021-08-09T23:35:59.134Z"
   },
   {
    "duration": -30,
    "start_time": "2021-08-09T23:35:59.136Z"
   },
   {
    "duration": -29,
    "start_time": "2021-08-09T23:35:59.137Z"
   },
   {
    "duration": 5,
    "start_time": "2021-08-09T23:36:33.151Z"
   },
   {
    "duration": 5,
    "start_time": "2021-08-09T23:36:43.463Z"
   },
   {
    "duration": 154,
    "start_time": "2021-08-09T23:36:45.400Z"
   },
   {
    "duration": 1535,
    "start_time": "2021-08-09T23:37:02.763Z"
   },
   {
    "duration": 60,
    "start_time": "2021-08-09T23:37:04.300Z"
   },
   {
    "duration": 22,
    "start_time": "2021-08-09T23:37:04.363Z"
   },
   {
    "duration": 896,
    "start_time": "2021-08-09T23:37:04.388Z"
   },
   {
    "duration": 79,
    "start_time": "2021-08-09T23:37:05.286Z"
   },
   {
    "duration": 15,
    "start_time": "2021-08-09T23:37:05.367Z"
   },
   {
    "duration": 4,
    "start_time": "2021-08-09T23:37:05.384Z"
   },
   {
    "duration": 162,
    "start_time": "2021-08-09T23:37:05.391Z"
   },
   {
    "duration": 1569,
    "start_time": "2021-08-09T23:37:35.303Z"
   },
   {
    "duration": 58,
    "start_time": "2021-08-09T23:37:36.874Z"
   },
   {
    "duration": 27,
    "start_time": "2021-08-09T23:37:36.935Z"
   },
   {
    "duration": 791,
    "start_time": "2021-08-09T23:37:36.965Z"
   },
   {
    "duration": 63,
    "start_time": "2021-08-09T23:37:37.759Z"
   },
   {
    "duration": 38,
    "start_time": "2021-08-09T23:37:37.824Z"
   },
   {
    "duration": 7,
    "start_time": "2021-08-09T23:37:37.864Z"
   },
   {
    "duration": 181,
    "start_time": "2021-08-09T23:37:37.875Z"
   },
   {
    "duration": 1524,
    "start_time": "2021-08-09T23:38:04.763Z"
   },
   {
    "duration": 61,
    "start_time": "2021-08-09T23:38:06.289Z"
   },
   {
    "duration": 24,
    "start_time": "2021-08-09T23:38:06.353Z"
   },
   {
    "duration": 783,
    "start_time": "2021-08-09T23:38:06.379Z"
   },
   {
    "duration": 63,
    "start_time": "2021-08-09T23:38:07.165Z"
   },
   {
    "duration": 35,
    "start_time": "2021-08-09T23:38:07.230Z"
   },
   {
    "duration": 4,
    "start_time": "2021-08-09T23:38:07.267Z"
   },
   {
    "duration": 88,
    "start_time": "2021-08-09T23:38:07.274Z"
   },
   {
    "duration": 50910,
    "start_time": "2021-08-09T23:38:07.455Z"
   },
   {
    "duration": 3550,
    "start_time": "2021-08-09T23:38:58.367Z"
   },
   {
    "duration": 940,
    "start_time": "2021-08-09T23:39:01.919Z"
   },
   {
    "duration": 202352,
    "start_time": "2021-08-09T23:39:02.861Z"
   },
   {
    "duration": 6,
    "start_time": "2021-08-09T23:42:25.216Z"
   },
   {
    "duration": 6,
    "start_time": "2021-08-09T23:42:55.656Z"
   },
   {
    "duration": 94,
    "start_time": "2021-08-09T23:42:55.665Z"
   },
   {
    "duration": 50110,
    "start_time": "2021-08-09T23:42:55.763Z"
   },
   {
    "duration": 3228,
    "start_time": "2021-08-09T23:43:45.876Z"
   },
   {
    "duration": 1150,
    "start_time": "2021-08-09T23:43:49.106Z"
   },
   {
    "duration": 194467,
    "start_time": "2021-08-09T23:43:50.259Z"
   },
   {
    "duration": 100,
    "start_time": "2021-08-09T23:47:04.729Z"
   },
   {
    "duration": 5,
    "start_time": "2021-08-09T23:48:23.118Z"
   },
   {
    "duration": 4,
    "start_time": "2021-08-09T23:48:53.593Z"
   },
   {
    "duration": 3384,
    "start_time": "2021-08-09T23:49:04.569Z"
   },
   {
    "duration": 919,
    "start_time": "2021-08-09T23:49:48.134Z"
   },
   {
    "duration": 4185,
    "start_time": "2021-08-09T23:51:00.713Z"
   },
   {
    "duration": 38,
    "start_time": "2021-08-09T23:53:21.330Z"
   },
   {
    "duration": 23,
    "start_time": "2021-08-09T23:53:43.872Z"
   },
   {
    "duration": 5,
    "start_time": "2021-08-09T23:54:37.739Z"
   },
   {
    "duration": 11,
    "start_time": "2021-08-09T23:54:43.549Z"
   },
   {
    "duration": 7,
    "start_time": "2021-08-09T23:55:28.179Z"
   },
   {
    "duration": 1506,
    "start_time": "2021-08-09T23:57:14.763Z"
   },
   {
    "duration": 59,
    "start_time": "2021-08-09T23:57:16.272Z"
   },
   {
    "duration": 29,
    "start_time": "2021-08-09T23:57:16.334Z"
   },
   {
    "duration": 790,
    "start_time": "2021-08-09T23:57:16.365Z"
   },
   {
    "duration": 38,
    "start_time": "2021-08-09T23:57:17.158Z"
   },
   {
    "duration": 15,
    "start_time": "2021-08-09T23:57:17.198Z"
   },
   {
    "duration": 4,
    "start_time": "2021-08-09T23:57:17.215Z"
   },
   {
    "duration": 137,
    "start_time": "2021-08-09T23:57:17.222Z"
   },
   {
    "duration": 50997,
    "start_time": "2021-08-09T23:57:17.364Z"
   },
   {
    "duration": 3316,
    "start_time": "2021-08-09T23:58:08.364Z"
   },
   {
    "duration": 899,
    "start_time": "2021-08-09T23:58:11.683Z"
   },
   {
    "duration": 192946,
    "start_time": "2021-08-09T23:58:12.655Z"
   },
   {
    "duration": 5,
    "start_time": "2021-08-10T00:01:25.603Z"
   },
   {
    "duration": 3291,
    "start_time": "2021-08-10T00:01:25.610Z"
   },
   {
    "duration": 1261,
    "start_time": "2021-08-10T00:01:28.904Z"
   },
   {
    "duration": 4200,
    "start_time": "2021-08-10T00:01:30.168Z"
   },
   {
    "duration": 6,
    "start_time": "2021-08-10T00:01:34.371Z"
   },
   {
    "duration": 6765,
    "start_time": "2021-08-10T00:02:47.553Z"
   },
   {
    "duration": 8576,
    "start_time": "2021-08-10T00:03:06.152Z"
   },
   {
    "duration": 24054,
    "start_time": "2021-08-10T00:03:33.821Z"
   },
   {
    "duration": 5563,
    "start_time": "2021-08-10T00:04:10.530Z"
   },
   {
    "duration": 4408,
    "start_time": "2021-08-10T00:04:26.244Z"
   },
   {
    "duration": 3267,
    "start_time": "2021-08-10T00:04:40.857Z"
   },
   {
    "duration": 2905,
    "start_time": "2021-08-10T00:04:54.675Z"
   },
   {
    "duration": 2981,
    "start_time": "2021-08-10T00:05:06.298Z"
   },
   {
    "duration": 2785,
    "start_time": "2021-08-10T00:05:20.296Z"
   },
   {
    "duration": 3647,
    "start_time": "2021-08-10T00:05:30.369Z"
   },
   {
    "duration": 3205,
    "start_time": "2021-08-10T00:05:50.081Z"
   },
   {
    "duration": 1558,
    "start_time": "2021-08-10T00:06:59.475Z"
   },
   {
    "duration": 61,
    "start_time": "2021-08-10T00:07:01.036Z"
   },
   {
    "duration": 24,
    "start_time": "2021-08-10T00:07:01.099Z"
   },
   {
    "duration": 779,
    "start_time": "2021-08-10T00:07:01.125Z"
   },
   {
    "duration": 57,
    "start_time": "2021-08-10T00:07:01.907Z"
   },
   {
    "duration": 14,
    "start_time": "2021-08-10T00:07:01.966Z"
   },
   {
    "duration": 5,
    "start_time": "2021-08-10T00:07:01.983Z"
   },
   {
    "duration": 176,
    "start_time": "2021-08-10T00:07:01.992Z"
   },
   {
    "duration": 49717,
    "start_time": "2021-08-10T00:07:02.256Z"
   },
   {
    "duration": 3532,
    "start_time": "2021-08-10T00:07:51.976Z"
   },
   {
    "duration": 960,
    "start_time": "2021-08-10T00:07:55.510Z"
   },
   {
    "duration": 191588,
    "start_time": "2021-08-10T00:07:56.472Z"
   },
   {
    "duration": 5,
    "start_time": "2021-08-10T00:11:08.062Z"
   },
   {
    "duration": 3244,
    "start_time": "2021-08-10T00:11:08.069Z"
   },
   {
    "duration": 848,
    "start_time": "2021-08-10T00:11:11.316Z"
   },
   {
    "duration": 4119,
    "start_time": "2021-08-10T00:11:12.167Z"
   },
   {
    "duration": 7,
    "start_time": "2021-08-10T00:11:16.289Z"
   },
   {
    "duration": 1275,
    "start_time": "2021-08-10T05:03:16.905Z"
   },
   {
    "duration": 41,
    "start_time": "2021-08-10T05:03:18.182Z"
   },
   {
    "duration": 35,
    "start_time": "2021-08-10T05:03:18.575Z"
   },
   {
    "duration": 451,
    "start_time": "2021-08-10T05:04:18.194Z"
   },
   {
    "duration": 23,
    "start_time": "2021-08-10T05:04:18.922Z"
   },
   {
    "duration": 658,
    "start_time": "2021-08-10T08:35:43.485Z"
   },
   {
    "duration": 1685,
    "start_time": "2021-08-10T08:35:50.495Z"
   },
   {
    "duration": 60,
    "start_time": "2021-08-10T08:35:52.183Z"
   },
   {
    "duration": 24,
    "start_time": "2021-08-10T08:35:52.246Z"
   },
   {
    "duration": 955,
    "start_time": "2021-08-10T08:35:52.273Z"
   },
   {
    "duration": 466,
    "start_time": "2021-08-10T08:37:51.924Z"
   },
   {
    "duration": 376,
    "start_time": "2021-08-10T08:37:57.937Z"
   },
   {
    "duration": 35,
    "start_time": "2021-08-10T08:42:30.782Z"
   },
   {
    "duration": 64,
    "start_time": "2021-08-10T08:42:35.412Z"
   },
   {
    "duration": 64,
    "start_time": "2021-08-10T08:42:48.811Z"
   },
   {
    "duration": 58,
    "start_time": "2021-08-10T08:44:11.237Z"
   },
   {
    "duration": 89,
    "start_time": "2021-08-10T08:44:42.394Z"
   },
   {
    "duration": 394,
    "start_time": "2021-08-10T08:45:54.187Z"
   },
   {
    "duration": 14,
    "start_time": "2021-08-10T08:46:30.605Z"
   },
   {
    "duration": 5,
    "start_time": "2021-08-10T08:48:11.112Z"
   },
   {
    "duration": 774,
    "start_time": "2021-08-10T08:48:13.032Z"
   },
   {
    "duration": 12,
    "start_time": "2021-08-10T08:48:35.076Z"
   },
   {
    "duration": 5,
    "start_time": "2021-08-10T08:48:38.119Z"
   },
   {
    "duration": 744,
    "start_time": "2021-08-10T08:48:40.274Z"
   },
   {
    "duration": 1684,
    "start_time": "2021-08-10T08:49:04.192Z"
   },
   {
    "duration": 62,
    "start_time": "2021-08-10T08:49:05.879Z"
   },
   {
    "duration": 24,
    "start_time": "2021-08-10T08:49:05.944Z"
   },
   {
    "duration": 899,
    "start_time": "2021-08-10T08:49:05.987Z"
   },
   {
    "duration": 31,
    "start_time": "2021-08-10T08:49:06.889Z"
   },
   {
    "duration": 12,
    "start_time": "2021-08-10T08:49:06.922Z"
   },
   {
    "duration": 12,
    "start_time": "2021-08-10T08:49:06.936Z"
   },
   {
    "duration": 951,
    "start_time": "2021-08-10T08:49:06.951Z"
   },
   {
    "duration": 19,
    "start_time": "2021-08-10T08:49:07.885Z"
   },
   {
    "duration": -23,
    "start_time": "2021-08-10T08:49:07.929Z"
   },
   {
    "duration": -24,
    "start_time": "2021-08-10T08:49:07.931Z"
   },
   {
    "duration": -24,
    "start_time": "2021-08-10T08:49:07.933Z"
   },
   {
    "duration": -27,
    "start_time": "2021-08-10T08:49:07.937Z"
   },
   {
    "duration": -27,
    "start_time": "2021-08-10T08:49:07.939Z"
   },
   {
    "duration": -28,
    "start_time": "2021-08-10T08:49:07.941Z"
   },
   {
    "duration": -28,
    "start_time": "2021-08-10T08:49:07.943Z"
   },
   {
    "duration": -29,
    "start_time": "2021-08-10T08:49:07.945Z"
   },
   {
    "duration": 4,
    "start_time": "2021-08-10T08:49:33.603Z"
   },
   {
    "duration": 738,
    "start_time": "2021-08-10T08:49:35.621Z"
   },
   {
    "duration": 1548,
    "start_time": "2021-08-10T08:49:58.913Z"
   },
   {
    "duration": 60,
    "start_time": "2021-08-10T08:50:00.464Z"
   },
   {
    "duration": 26,
    "start_time": "2021-08-10T08:50:00.527Z"
   },
   {
    "duration": 907,
    "start_time": "2021-08-10T08:50:00.556Z"
   },
   {
    "duration": 46,
    "start_time": "2021-08-10T08:50:01.465Z"
   },
   {
    "duration": 12,
    "start_time": "2021-08-10T08:50:01.513Z"
   },
   {
    "duration": 21,
    "start_time": "2021-08-10T08:50:01.527Z"
   },
   {
    "duration": 965,
    "start_time": "2021-08-10T08:50:01.550Z"
   },
   {
    "duration": -109,
    "start_time": "2021-08-10T08:50:02.627Z"
   },
   {
    "duration": -112,
    "start_time": "2021-08-10T08:50:02.632Z"
   },
   {
    "duration": -113,
    "start_time": "2021-08-10T08:50:02.634Z"
   },
   {
    "duration": -116,
    "start_time": "2021-08-10T08:50:02.638Z"
   },
   {
    "duration": -118,
    "start_time": "2021-08-10T08:50:02.642Z"
   },
   {
    "duration": -121,
    "start_time": "2021-08-10T08:50:02.646Z"
   },
   {
    "duration": -122,
    "start_time": "2021-08-10T08:50:02.648Z"
   },
   {
    "duration": -122,
    "start_time": "2021-08-10T08:50:02.649Z"
   },
   {
    "duration": -123,
    "start_time": "2021-08-10T08:50:02.651Z"
   },
   {
    "duration": 20,
    "start_time": "2021-08-10T08:50:30.482Z"
   },
   {
    "duration": 12,
    "start_time": "2021-08-10T08:50:55.839Z"
   },
   {
    "duration": 18,
    "start_time": "2021-08-10T08:51:07.701Z"
   },
   {
    "duration": 21,
    "start_time": "2021-08-10T08:51:21.519Z"
   },
   {
    "duration": 12,
    "start_time": "2021-08-10T08:51:35.359Z"
   },
   {
    "duration": 12,
    "start_time": "2021-08-10T08:51:43.479Z"
   },
   {
    "duration": 379,
    "start_time": "2021-08-10T08:51:49.365Z"
   },
   {
    "duration": 13,
    "start_time": "2021-08-10T08:52:03.462Z"
   },
   {
    "duration": 12,
    "start_time": "2021-08-10T08:52:31.980Z"
   },
   {
    "duration": 12,
    "start_time": "2021-08-10T08:52:39.127Z"
   },
   {
    "duration": 6,
    "start_time": "2021-08-10T08:52:40.651Z"
   },
   {
    "duration": 1379,
    "start_time": "2021-08-10T08:52:42.580Z"
   },
   {
    "duration": 5,
    "start_time": "2021-08-10T08:53:02.103Z"
   },
   {
    "duration": 494,
    "start_time": "2021-08-10T08:53:05.141Z"
   },
   {
    "duration": 5,
    "start_time": "2021-08-10T08:54:21.556Z"
   },
   {
    "duration": 961,
    "start_time": "2021-08-10T08:54:24.922Z"
   },
   {
    "duration": 5,
    "start_time": "2021-08-10T08:54:47.564Z"
   },
   {
    "duration": 599,
    "start_time": "2021-08-10T08:54:50.723Z"
   },
   {
    "duration": 5,
    "start_time": "2021-08-10T08:54:56.322Z"
   },
   {
    "duration": 1329,
    "start_time": "2021-08-10T08:54:58.189Z"
   },
   {
    "duration": 5,
    "start_time": "2021-08-10T08:55:30.041Z"
   },
   {
    "duration": 848,
    "start_time": "2021-08-10T08:55:31.764Z"
   },
   {
    "duration": 7,
    "start_time": "2021-08-10T08:55:44.286Z"
   },
   {
    "duration": 828,
    "start_time": "2021-08-10T08:55:44.297Z"
   },
   {
    "duration": 12946,
    "start_time": "2021-08-10T08:55:45.128Z"
   },
   {
    "duration": 4931,
    "start_time": "2021-08-10T08:55:58.086Z"
   },
   {
    "duration": 16113,
    "start_time": "2021-08-10T08:56:03.020Z"
   },
   {
    "duration": 46663,
    "start_time": "2021-08-10T08:56:19.135Z"
   },
   {
    "duration": 4,
    "start_time": "2021-08-10T08:57:05.801Z"
   },
   {
    "duration": 3121,
    "start_time": "2021-08-10T08:57:05.807Z"
   },
   {
    "duration": 764,
    "start_time": "2021-08-10T08:57:08.932Z"
   },
   {
    "duration": 1052,
    "start_time": "2021-08-10T08:57:09.699Z"
   },
   {
    "duration": 5,
    "start_time": "2021-08-10T08:57:10.754Z"
   },
   {
    "duration": 5,
    "start_time": "2021-08-10T08:59:51.960Z"
   },
   {
    "duration": 1233,
    "start_time": "2021-08-10T08:59:54.741Z"
   },
   {
    "duration": 5,
    "start_time": "2021-08-10T09:00:16.237Z"
   },
   {
    "duration": 22,
    "start_time": "2021-08-10T09:00:17.677Z"
   },
   {
    "duration": 5,
    "start_time": "2021-08-10T09:00:31.614Z"
   },
   {
    "duration": 4347,
    "start_time": "2021-08-10T09:00:34.234Z"
   },
   {
    "duration": 5,
    "start_time": "2021-08-10T09:00:51.014Z"
   },
   {
    "duration": 4704,
    "start_time": "2021-08-10T09:00:52.801Z"
   },
   {
    "duration": 5,
    "start_time": "2021-08-10T09:01:13.127Z"
   },
   {
    "duration": 4217,
    "start_time": "2021-08-10T09:01:14.976Z"
   },
   {
    "duration": 5,
    "start_time": "2021-08-10T09:01:32.878Z"
   },
   {
    "duration": 3724,
    "start_time": "2021-08-10T09:01:39.114Z"
   },
   {
    "duration": 1377,
    "start_time": "2021-08-10T09:02:06.920Z"
   },
   {
    "duration": 1626,
    "start_time": "2021-08-10T09:02:23.896Z"
   },
   {
    "duration": 7,
    "start_time": "2021-08-10T09:04:56.041Z"
   },
   {
    "duration": 6,
    "start_time": "2021-08-10T09:05:26.314Z"
   },
   {
    "duration": 4275,
    "start_time": "2021-08-10T09:05:30.646Z"
   },
   {
    "duration": 395,
    "start_time": "2021-08-10T09:05:48.408Z"
   },
   {
    "duration": 6,
    "start_time": "2021-08-10T09:06:06.960Z"
   },
   {
    "duration": 3992,
    "start_time": "2021-08-10T09:06:09.720Z"
   },
   {
    "duration": 6,
    "start_time": "2021-08-10T09:06:27.081Z"
   },
   {
    "duration": 3703,
    "start_time": "2021-08-10T09:06:29.085Z"
   },
   {
    "duration": 125,
    "start_time": "2021-08-10T09:09:11.532Z"
   },
   {
    "duration": 5,
    "start_time": "2021-08-10T09:09:22.999Z"
   },
   {
    "duration": 17888,
    "start_time": "2021-08-10T09:09:25.159Z"
   },
   {
    "duration": -311,
    "start_time": "2021-08-10T09:09:43.362Z"
   },
   {
    "duration": 5,
    "start_time": "2021-08-10T09:09:51.807Z"
   },
   {
    "duration": 18929,
    "start_time": "2021-08-10T09:09:54.761Z"
   },
   {
    "duration": 7,
    "start_time": "2021-08-10T09:10:28.994Z"
   },
   {
    "duration": 6,
    "start_time": "2021-08-10T09:10:36.238Z"
   },
   {
    "duration": 3885,
    "start_time": "2021-08-10T09:10:38.255Z"
   },
   {
    "duration": 1350,
    "start_time": "2021-08-10T09:10:49.200Z"
   },
   {
    "duration": 1597,
    "start_time": "2021-08-10T09:12:17.758Z"
   },
   {
    "duration": 59,
    "start_time": "2021-08-10T09:12:19.359Z"
   },
   {
    "duration": 24,
    "start_time": "2021-08-10T09:12:19.422Z"
   },
   {
    "duration": 916,
    "start_time": "2021-08-10T09:12:19.449Z"
   },
   {
    "duration": 47,
    "start_time": "2021-08-10T09:12:20.367Z"
   },
   {
    "duration": 14,
    "start_time": "2021-08-10T09:12:20.417Z"
   },
   {
    "duration": 6,
    "start_time": "2021-08-10T09:12:20.433Z"
   },
   {
    "duration": 145,
    "start_time": "2021-08-10T09:12:20.442Z"
   },
   {
    "duration": 12376,
    "start_time": "2021-08-10T09:12:20.593Z"
   },
   {
    "duration": 3322,
    "start_time": "2021-08-10T09:12:32.971Z"
   },
   {
    "duration": 704,
    "start_time": "2021-08-10T09:12:36.296Z"
   },
   {
    "duration": 46610,
    "start_time": "2021-08-10T09:12:37.003Z"
   },
   {
    "duration": 7,
    "start_time": "2021-08-10T09:13:23.616Z"
   },
   {
    "duration": 8,
    "start_time": "2021-08-10T09:13:23.625Z"
   },
   {
    "duration": 3895,
    "start_time": "2021-08-10T09:13:23.635Z"
   },
   {
    "duration": 1533,
    "start_time": "2021-08-10T09:13:27.533Z"
   },
   {
    "duration": 1626,
    "start_time": "2021-08-10T09:13:29.068Z"
   },
   {
    "duration": 6,
    "start_time": "2021-08-10T09:13:30.696Z"
   },
   {
    "duration": 1552,
    "start_time": "2021-08-11T04:07:30.444Z"
   },
   {
    "duration": 60,
    "start_time": "2021-08-11T04:07:32.034Z"
   },
   {
    "duration": 26,
    "start_time": "2021-08-11T04:07:37.823Z"
   },
   {
    "duration": 440,
    "start_time": "2021-08-11T04:08:02.349Z"
   },
   {
    "duration": 1673,
    "start_time": "2021-08-11T04:09:19.345Z"
   },
   {
    "duration": 8,
    "start_time": "2021-08-11T06:25:23.585Z"
   },
   {
    "duration": 359,
    "start_time": "2021-08-11T06:25:31.061Z"
   },
   {
    "duration": 1666,
    "start_time": "2021-08-11T06:25:44.631Z"
   },
   {
    "duration": 431,
    "start_time": "2021-08-11T06:26:00.580Z"
   },
   {
    "duration": 1633,
    "start_time": "2021-08-11T06:26:14.533Z"
   },
   {
    "duration": 60,
    "start_time": "2021-08-11T06:26:16.169Z"
   },
   {
    "duration": 36,
    "start_time": "2021-08-11T06:26:16.232Z"
   },
   {
    "duration": 96,
    "start_time": "2021-08-11T06:26:16.271Z"
   },
   {
    "duration": -45,
    "start_time": "2021-08-11T06:26:16.416Z"
   },
   {
    "duration": -50,
    "start_time": "2021-08-11T06:26:16.422Z"
   },
   {
    "duration": -52,
    "start_time": "2021-08-11T06:26:16.425Z"
   },
   {
    "duration": -52,
    "start_time": "2021-08-11T06:26:16.427Z"
   },
   {
    "duration": -53,
    "start_time": "2021-08-11T06:26:16.429Z"
   },
   {
    "duration": -53,
    "start_time": "2021-08-11T06:26:16.431Z"
   },
   {
    "duration": -54,
    "start_time": "2021-08-11T06:26:16.433Z"
   },
   {
    "duration": -56,
    "start_time": "2021-08-11T06:26:16.437Z"
   },
   {
    "duration": -57,
    "start_time": "2021-08-11T06:26:16.439Z"
   },
   {
    "duration": -66,
    "start_time": "2021-08-11T06:26:16.449Z"
   },
   {
    "duration": -68,
    "start_time": "2021-08-11T06:26:16.452Z"
   },
   {
    "duration": -74,
    "start_time": "2021-08-11T06:26:16.460Z"
   },
   {
    "duration": -75,
    "start_time": "2021-08-11T06:26:16.462Z"
   },
   {
    "duration": -78,
    "start_time": "2021-08-11T06:26:16.466Z"
   },
   {
    "duration": -78,
    "start_time": "2021-08-11T06:26:16.468Z"
   },
   {
    "duration": -90,
    "start_time": "2021-08-11T06:26:16.482Z"
   },
   {
    "duration": -91,
    "start_time": "2021-08-11T06:26:16.484Z"
   },
   {
    "duration": 1620,
    "start_time": "2021-08-11T06:26:50.936Z"
   },
   {
    "duration": 57,
    "start_time": "2021-08-11T06:26:52.559Z"
   },
   {
    "duration": 26,
    "start_time": "2021-08-11T06:26:52.619Z"
   },
   {
    "duration": 1588,
    "start_time": "2021-08-11T06:26:52.649Z"
   },
   {
    "duration": 999,
    "start_time": "2021-08-11T06:26:54.240Z"
   },
   {
    "duration": 47,
    "start_time": "2021-08-11T06:26:55.241Z"
   },
   {
    "duration": 11,
    "start_time": "2021-08-11T06:26:55.291Z"
   },
   {
    "duration": 10,
    "start_time": "2021-08-11T06:26:55.304Z"
   },
   {
    "duration": 54,
    "start_time": "2021-08-11T06:26:55.318Z"
   },
   {
    "duration": 13321,
    "start_time": "2021-08-11T06:26:55.376Z"
   },
   {
    "duration": 3245,
    "start_time": "2021-08-11T06:27:08.700Z"
   },
   {
    "duration": 1031,
    "start_time": "2021-08-11T06:27:11.947Z"
   },
   {
    "duration": 48931,
    "start_time": "2021-08-11T06:27:12.980Z"
   },
   {
    "duration": 8,
    "start_time": "2021-08-11T06:28:01.913Z"
   },
   {
    "duration": 17,
    "start_time": "2021-08-11T06:28:01.923Z"
   },
   {
    "duration": 3896,
    "start_time": "2021-08-11T06:28:01.942Z"
   },
   {
    "duration": -179,
    "start_time": "2021-08-11T06:28:06.019Z"
   },
   {
    "duration": -226,
    "start_time": "2021-08-11T06:28:06.068Z"
   },
   {
    "duration": -230,
    "start_time": "2021-08-11T06:28:06.073Z"
   },
   {
    "duration": 6,
    "start_time": "2021-08-11T06:28:39.552Z"
   },
   {
    "duration": 4058,
    "start_time": "2021-08-11T06:28:43.091Z"
   },
   {
    "duration": 41,
    "start_time": "2021-08-11T06:29:22.577Z"
   },
   {
    "duration": 4206,
    "start_time": "2021-08-11T06:29:27.098Z"
   },
   {
    "duration": 8,
    "start_time": "2021-08-11T06:30:00.412Z"
   },
   {
    "duration": 4113,
    "start_time": "2021-08-11T06:30:03.304Z"
   },
   {
    "duration": 2126,
    "start_time": "2021-08-11T06:30:29.934Z"
   },
   {
    "duration": 1952,
    "start_time": "2021-08-11T06:30:38.893Z"
   },
   {
    "duration": 8,
    "start_time": "2021-08-11T06:31:03.847Z"
   },
   {
    "duration": 4228,
    "start_time": "2021-08-11T06:31:05.654Z"
   },
   {
    "duration": 363,
    "start_time": "2021-08-11T06:32:47.020Z"
   },
   {
    "duration": 322,
    "start_time": "2021-08-11T06:33:01.528Z"
   },
   {
    "duration": 272,
    "start_time": "2021-08-11T06:33:16.168Z"
   },
   {
    "duration": 1578,
    "start_time": "2021-08-11T06:33:29.311Z"
   },
   {
    "duration": 57,
    "start_time": "2021-08-11T06:33:30.892Z"
   },
   {
    "duration": 38,
    "start_time": "2021-08-11T06:33:30.952Z"
   },
   {
    "duration": 1750,
    "start_time": "2021-08-11T06:33:30.993Z"
   },
   {
    "duration": 1049,
    "start_time": "2021-08-11T06:33:32.745Z"
   },
   {
    "duration": 31,
    "start_time": "2021-08-11T06:33:33.797Z"
   },
   {
    "duration": 42,
    "start_time": "2021-08-11T06:33:33.830Z"
   },
   {
    "duration": 5,
    "start_time": "2021-08-11T06:33:33.875Z"
   },
   {
    "duration": 83,
    "start_time": "2021-08-11T06:33:33.884Z"
   },
   {
    "duration": 13665,
    "start_time": "2021-08-11T06:33:33.974Z"
   },
   {
    "duration": 3369,
    "start_time": "2021-08-11T06:33:47.641Z"
   },
   {
    "duration": 1258,
    "start_time": "2021-08-11T06:33:51.012Z"
   },
   {
    "duration": 1742,
    "start_time": "2021-08-11T06:34:45.936Z"
   },
   {
    "duration": 60,
    "start_time": "2021-08-11T06:34:47.682Z"
   },
   {
    "duration": 36,
    "start_time": "2021-08-11T06:34:47.745Z"
   },
   {
    "duration": 1750,
    "start_time": "2021-08-11T06:34:47.785Z"
   },
   {
    "duration": 1050,
    "start_time": "2021-08-11T06:34:49.538Z"
   },
   {
    "duration": 33,
    "start_time": "2021-08-11T06:34:50.591Z"
   },
   {
    "duration": 14,
    "start_time": "2021-08-11T06:34:50.626Z"
   },
   {
    "duration": 28,
    "start_time": "2021-08-11T06:34:50.642Z"
   },
   {
    "duration": 103,
    "start_time": "2021-08-11T06:34:50.675Z"
   },
   {
    "duration": 13688,
    "start_time": "2021-08-11T06:34:50.782Z"
   },
   {
    "duration": 3221,
    "start_time": "2021-08-11T06:35:04.473Z"
   },
   {
    "duration": 1589,
    "start_time": "2021-08-11T06:35:07.696Z"
   },
   {
    "duration": 1555,
    "start_time": "2021-08-11T06:35:26.618Z"
   },
   {
    "duration": 65,
    "start_time": "2021-08-11T06:35:28.176Z"
   },
   {
    "duration": 38,
    "start_time": "2021-08-11T06:35:28.245Z"
   },
   {
    "duration": 1769,
    "start_time": "2021-08-11T06:35:28.286Z"
   },
   {
    "duration": 1070,
    "start_time": "2021-08-11T06:35:30.057Z"
   },
   {
    "duration": 55,
    "start_time": "2021-08-11T06:35:31.130Z"
   },
   {
    "duration": 12,
    "start_time": "2021-08-11T06:35:31.188Z"
   },
   {
    "duration": 15,
    "start_time": "2021-08-11T06:35:31.203Z"
   },
   {
    "duration": 60,
    "start_time": "2021-08-11T06:35:31.221Z"
   },
   {
    "duration": 13706,
    "start_time": "2021-08-11T06:35:31.286Z"
   },
   {
    "duration": 3200,
    "start_time": "2021-08-11T06:35:44.995Z"
   },
   {
    "duration": 4070,
    "start_time": "2021-08-11T06:35:48.198Z"
   },
   {
    "duration": 51089,
    "start_time": "2021-08-11T06:35:52.272Z"
   },
   {
    "duration": 10,
    "start_time": "2021-08-11T06:36:43.364Z"
   },
   {
    "duration": 88,
    "start_time": "2021-08-11T06:36:43.377Z"
   },
   {
    "duration": 4115,
    "start_time": "2021-08-11T06:36:43.468Z"
   },
   {
    "duration": 3148,
    "start_time": "2021-08-11T06:36:47.586Z"
   },
   {
    "duration": 1936,
    "start_time": "2021-08-11T06:36:50.738Z"
   },
   {
    "duration": 8,
    "start_time": "2021-08-11T06:36:52.677Z"
   },
   {
    "duration": 455,
    "start_time": "2021-08-11T06:37:30.478Z"
   },
   {
    "duration": 1625,
    "start_time": "2021-08-11T06:37:38.762Z"
   },
   {
    "duration": 59,
    "start_time": "2021-08-11T06:37:40.390Z"
   },
   {
    "duration": 33,
    "start_time": "2021-08-11T06:37:40.451Z"
   },
   {
    "duration": 1664,
    "start_time": "2021-08-11T06:37:40.487Z"
   },
   {
    "duration": 1019,
    "start_time": "2021-08-11T06:37:42.154Z"
   },
   {
    "duration": 38,
    "start_time": "2021-08-11T06:37:43.176Z"
   },
   {
    "duration": 12,
    "start_time": "2021-08-11T06:37:43.217Z"
   },
   {
    "duration": 39,
    "start_time": "2021-08-11T06:37:43.233Z"
   },
   {
    "duration": 92,
    "start_time": "2021-08-11T06:37:43.276Z"
   },
   {
    "duration": 13269,
    "start_time": "2021-08-11T06:37:43.371Z"
   },
   {
    "duration": 2686,
    "start_time": "2021-08-11T06:37:56.643Z"
   },
   {
    "duration": 842,
    "start_time": "2021-08-11T06:37:59.332Z"
   },
   {
    "duration": 47926,
    "start_time": "2021-08-11T06:38:00.176Z"
   },
   {
    "duration": 16,
    "start_time": "2021-08-11T06:38:48.105Z"
   },
   {
    "duration": 56,
    "start_time": "2021-08-11T06:38:48.124Z"
   },
   {
    "duration": 3902,
    "start_time": "2021-08-11T06:38:48.183Z"
   },
   {
    "duration": 1618,
    "start_time": "2021-08-11T06:38:52.087Z"
   },
   {
    "duration": 1820,
    "start_time": "2021-08-11T06:38:53.707Z"
   },
   {
    "duration": 6,
    "start_time": "2021-08-11T06:38:55.529Z"
   },
   {
    "duration": 1538,
    "start_time": "2021-08-11T06:41:37.123Z"
   },
   {
    "duration": 61,
    "start_time": "2021-08-11T06:41:38.667Z"
   },
   {
    "duration": 36,
    "start_time": "2021-08-11T06:41:38.732Z"
   },
   {
    "duration": 1551,
    "start_time": "2021-08-11T06:41:38.771Z"
   },
   {
    "duration": 986,
    "start_time": "2021-08-11T06:41:40.325Z"
   },
   {
    "duration": 31,
    "start_time": "2021-08-11T06:41:41.313Z"
   },
   {
    "duration": 28,
    "start_time": "2021-08-11T06:41:41.346Z"
   },
   {
    "duration": 5,
    "start_time": "2021-08-11T06:41:41.377Z"
   },
   {
    "duration": 22,
    "start_time": "2021-08-11T06:41:41.385Z"
   },
   {
    "duration": 13099,
    "start_time": "2021-08-11T06:41:41.469Z"
   },
   {
    "duration": 3050,
    "start_time": "2021-08-11T06:41:54.571Z"
   },
   {
    "duration": 857,
    "start_time": "2021-08-11T06:41:57.623Z"
   },
   {
    "duration": 49289,
    "start_time": "2021-08-11T06:41:58.483Z"
   },
   {
    "duration": 7,
    "start_time": "2021-08-11T06:42:47.774Z"
   },
   {
    "duration": 41,
    "start_time": "2021-08-11T06:42:47.784Z"
   },
   {
    "duration": 3532,
    "start_time": "2021-08-11T06:42:47.827Z"
   },
   {
    "duration": 1784,
    "start_time": "2021-08-11T06:42:51.362Z"
   },
   {
    "duration": 1842,
    "start_time": "2021-08-11T06:42:53.148Z"
   },
   {
    "duration": 7,
    "start_time": "2021-08-11T06:42:54.992Z"
   },
   {
    "duration": 7,
    "start_time": "2021-08-11T06:43:15.885Z"
   },
   {
    "duration": 4543,
    "start_time": "2021-08-11T06:43:18.424Z"
   },
   {
    "duration": 9,
    "start_time": "2021-08-11T06:44:01.052Z"
   },
   {
    "duration": 2231,
    "start_time": "2021-08-11T06:44:05.384Z"
   },
   {
    "duration": 7,
    "start_time": "2021-08-11T06:44:27.361Z"
   },
   {
    "duration": 1524,
    "start_time": "2021-08-11T06:44:32.048Z"
   },
   {
    "duration": 7,
    "start_time": "2021-08-11T06:44:49.963Z"
   },
   {
    "duration": 242,
    "start_time": "2021-08-11T06:44:52.568Z"
   },
   {
    "duration": 3449,
    "start_time": "2021-08-11T06:45:01.494Z"
   },
   {
    "duration": 1156,
    "start_time": "2021-08-11T12:47:52.010Z"
   },
   {
    "duration": 45,
    "start_time": "2021-08-11T12:47:53.168Z"
   },
   {
    "duration": 16,
    "start_time": "2021-08-11T12:47:53.963Z"
   },
   {
    "duration": 987,
    "start_time": "2021-08-11T12:47:54.728Z"
   },
   {
    "duration": 608,
    "start_time": "2021-08-11T12:47:56.267Z"
   },
   {
    "duration": 10,
    "start_time": "2021-08-11T12:48:35.234Z"
   },
   {
    "duration": 377,
    "start_time": "2021-09-25T14:31:38.764Z"
   },
   {
    "duration": 2139,
    "start_time": "2021-09-25T14:31:44.651Z"
   },
   {
    "duration": 57,
    "start_time": "2021-09-25T14:31:49.545Z"
   },
   {
    "duration": 24,
    "start_time": "2021-09-25T14:31:52.967Z"
   },
   {
    "duration": 8,
    "start_time": "2021-09-25T14:32:03.905Z"
   },
   {
    "duration": 1629,
    "start_time": "2021-09-28T19:17:57.233Z"
   },
   {
    "duration": 57,
    "start_time": "2021-09-28T19:17:58.864Z"
   },
   {
    "duration": 26,
    "start_time": "2021-09-28T19:17:58.924Z"
   },
   {
    "duration": 9,
    "start_time": "2021-09-28T19:17:58.967Z"
   },
   {
    "duration": 1607,
    "start_time": "2021-09-28T19:17:58.978Z"
   },
   {
    "duration": 1001,
    "start_time": "2021-09-28T19:18:00.588Z"
   },
   {
    "duration": 15,
    "start_time": "2021-09-28T19:18:01.591Z"
   },
   {
    "duration": 59,
    "start_time": "2021-09-28T19:18:01.611Z"
   },
   {
    "duration": 12,
    "start_time": "2021-09-28T19:18:01.673Z"
   },
   {
    "duration": 20,
    "start_time": "2021-09-28T19:18:01.688Z"
   },
   {
    "duration": 68,
    "start_time": "2021-09-28T19:18:01.711Z"
   },
   {
    "duration": 13122,
    "start_time": "2021-09-28T19:18:01.867Z"
   },
   {
    "duration": 3334,
    "start_time": "2021-09-28T19:18:14.991Z"
   },
   {
    "duration": 652,
    "start_time": "2021-09-28T19:18:18.327Z"
   },
   {
    "duration": 47746,
    "start_time": "2021-09-28T19:18:18.981Z"
   },
   {
    "duration": 7,
    "start_time": "2021-09-28T19:19:06.730Z"
   },
   {
    "duration": 74,
    "start_time": "2021-09-28T19:19:06.739Z"
   },
   {
    "duration": 5158,
    "start_time": "2021-09-28T19:19:06.815Z"
   },
   {
    "duration": 1830,
    "start_time": "2021-09-28T19:19:11.975Z"
   },
   {
    "duration": 1836,
    "start_time": "2021-09-28T19:19:13.807Z"
   },
   {
    "duration": 6,
    "start_time": "2021-09-28T19:19:15.646Z"
   }
  ],
  "kernelspec": {
   "display_name": "Python 3",
   "language": "python",
   "name": "python3"
  },
  "language_info": {
   "codemirror_mode": {
    "name": "ipython",
    "version": 3
   },
   "file_extension": ".py",
   "mimetype": "text/x-python",
   "name": "python",
   "nbconvert_exporter": "python",
   "pygments_lexer": "ipython3",
   "version": "3.8.8"
  },
  "toc": {
   "base_numbering": 1,
   "nav_menu": {},
   "number_sections": true,
   "sideBar": true,
   "skip_h1_title": true,
   "title_cell": "Содержание",
   "title_sidebar": "Contents",
   "toc_cell": true,
   "toc_position": {},
   "toc_section_display": true,
   "toc_window_display": true
  }
 },
 "nbformat": 4,
 "nbformat_minor": 2
}
